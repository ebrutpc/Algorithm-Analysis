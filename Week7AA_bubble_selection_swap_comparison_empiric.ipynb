{
 "cells": [
  {
   "cell_type": "code",
   "execution_count": 13,
   "metadata": {},
   "outputs": [],
   "source": [
    "import random \n",
    "\n",
    "def get_n_random_numbers(n=10,min_=-5,max_=5):\n",
    "    numbers=[]\n",
    "    for i in range(n):\n",
    "        numbers.append(random.randint(min_,max_))\n",
    "    return numbers \n"
   ]
  },
  {
   "cell_type": "code",
   "execution_count": null,
   "metadata": {},
   "outputs": [],
   "source": []
  },
  {
   "cell_type": "markdown",
   "metadata": {},
   "source": [
    "# Bubble Sort\n",
    "\n",
    "<br>\n",
    "Worst-case :O(N²) <br>\n",
    "Best-case :O(1)"
   ]
  },
  {
   "cell_type": "code",
   "execution_count": 41,
   "metadata": {},
   "outputs": [],
   "source": [
    "#bublesort \n",
    "#sorting from small to large \n",
    "def bublesort_alg(liste):\n",
    "    swap_counter = 0\n",
    "    comp_counter = 0\n",
    "    for i in range (len(liste)):\n",
    "        for k in range(len(liste)):\n",
    "            comp_counter +=1\n",
    "            if(liste[i]<liste[k]):\n",
    "                    swap_counter+=1\n",
    "                    temp = liste[i]\n",
    "                    liste[i] = liste[k]\n",
    "                    liste[k] = temp\n",
    "\n",
    "\n",
    "    return liste,swap_counter,comp_counter\n"
   ]
  },
  {
   "cell_type": "code",
   "execution_count": 42,
   "metadata": {},
   "outputs": [
    {
     "name": "stdout",
     "output_type": "stream",
     "text": [
      "sorted list : [-679, -529, -428, -86, 21, 62, 143, 406, 410, 452]\n",
      "swap counts : 18\n",
      "comparison counts : 100\n"
     ]
    }
   ],
   "source": [
    "results=bublesort_alg(list_1)\n",
    "print(\"sorted list :\",results[0])\n",
    "print(\"swap counts :\",results[1])\n",
    "print(\"comparison counts :\",results[2])"
   ]
  },
  {
   "cell_type": "code",
   "execution_count": 90,
   "metadata": {},
   "outputs": [],
   "source": [
    "list_2=get_n_random_numbers(20,-1000,1000)\n"
   ]
  },
  {
   "cell_type": "code",
   "execution_count": 91,
   "metadata": {},
   "outputs": [
    {
     "name": "stdout",
     "output_type": "stream",
     "text": [
      "[746, 878, -597, -868, 604, 4, -230, -832, -134, 772, 644, 766, -80, -519, -106, -21, 17, 156, 179, 898]\n"
     ]
    }
   ],
   "source": [
    "#unsorted list_2\n",
    "print(list_2)"
   ]
  },
  {
   "cell_type": "code",
   "execution_count": 93,
   "metadata": {},
   "outputs": [
    {
     "name": "stdout",
     "output_type": "stream",
     "text": [
      "sorted list : [-868, -832, -597, -519, -230, -134, -106, -80, -21, 4, 17, 156, 179, 604, 644, 746, 766, 772, 878, 898]\n",
      "swap counts : 38\n",
      "comparison counts : 400\n"
     ]
    }
   ],
   "source": [
    "results_2=bublesort_alg(list_2)\n",
    "print(\"sorted list :\",results_2[0])\n",
    "print(\"swap counts :\",results_2[1])\n",
    "print(\"comparison counts :\",results_2[2])"
   ]
  },
  {
   "cell_type": "code",
   "execution_count": 96,
   "metadata": {},
   "outputs": [],
   "source": [
    "list_3=get_n_random_numbers(200,-1000,1000)\n"
   ]
  },
  {
   "cell_type": "code",
   "execution_count": 97,
   "metadata": {},
   "outputs": [
    {
     "name": "stdout",
     "output_type": "stream",
     "text": [
      "[-11, 259, 767, -662, 407, -252, 401, 719, 148, 245, -944, 151, -821, 39, 392, -964, -661, -521, -607, 984, -245, -466, -171, 503, -469, -543, 156, -8, 53, 914, -779, 391, 849, -522, 828, 900, -714, -444, 965, 629, -803, 995, -489, 805, 329, 48, -458, 210, 905, -361, -333, 78, -37, 777, 461, 297, -551, -840, 119, 132, -766, -927, 313, -481, -165, 349, -259, -475, -882, 630, -843, -575, -750, 681, 562, 780, 297, -198, 612, 583, 852, 611, 822, 182, 157, 743, -856, -22, 549, -154, 857, -316, -442, -903, -373, -766, 191, -479, 447, 205, -536, 553, -224, -360, 442, -782, -387, 414, 291, 224, -300, 456, 663, -568, -643, -946, -22, -46, -517, -403, 522, -74, 603, 886, -397, 603, 7, 734, -422, -668, -345, -504, 698, 889, -946, -51, 347, 530, -361, 192, -865, -375, -811, 433, 387, -30, -927, -793, -154, -493, 565, 666, 862, 506, -47, -209, 389, -446, -978, 33, 320, -805, 534, -223, 349, 465, -5, -707, -751, -193, -263, 611, 427, -550, 251, 723, -807, -383, -359, -919, 765, -356, 368, 907, 169, -435, 323, -778, -206, 107, 563, -205, 651, 813, 473, -172, 204, -135, -113, -853]\n"
     ]
    }
   ],
   "source": [
    "#unsorted list_3\n",
    "print(list_3)"
   ]
  },
  {
   "cell_type": "code",
   "execution_count": 98,
   "metadata": {},
   "outputs": [
    {
     "name": "stdout",
     "output_type": "stream",
     "text": [
      "sorted list : [-978, -964, -946, -946, -944, -927, -927, -919, -903, -882, -865, -856, -853, -843, -840, -821, -811, -807, -805, -803, -793, -782, -779, -778, -766, -766, -751, -750, -714, -707, -668, -662, -661, -643, -607, -575, -568, -551, -550, -543, -536, -522, -521, -517, -504, -493, -489, -481, -479, -475, -469, -466, -458, -446, -444, -442, -435, -422, -403, -397, -387, -383, -375, -373, -361, -361, -360, -359, -356, -345, -333, -316, -300, -263, -259, -252, -245, -224, -223, -209, -206, -205, -198, -193, -172, -171, -165, -154, -154, -135, -113, -74, -51, -47, -46, -37, -30, -22, -22, -11, -8, -5, 7, 33, 39, 48, 53, 78, 107, 119, 132, 148, 151, 156, 157, 169, 182, 191, 192, 204, 205, 210, 224, 245, 251, 259, 291, 297, 297, 313, 320, 323, 329, 347, 349, 349, 368, 387, 389, 391, 392, 401, 407, 414, 427, 433, 442, 447, 456, 461, 465, 473, 503, 506, 522, 530, 534, 549, 553, 562, 563, 565, 583, 603, 603, 611, 611, 612, 629, 630, 651, 663, 666, 681, 698, 719, 723, 734, 743, 765, 767, 777, 780, 805, 813, 822, 828, 849, 852, 857, 862, 886, 889, 900, 905, 907, 914, 965, 984, 995]\n",
      "swap counts : 9778\n",
      "comparison counts : 40000\n"
     ]
    }
   ],
   "source": [
    "results_3=bublesort_alg(list_3)\n",
    "print(\"sorted list :\",results_3[0])\n",
    "print(\"swap counts :\",results_3[1])\n",
    "print(\"comparison counts :\",results_3[2])"
   ]
  },
  {
   "cell_type": "markdown",
   "metadata": {},
   "source": [
    "# Selection Sort\n",
    "<br>\n",
    "Worst-case:O(n2) <br>\n",
    "Best-case :O(1)"
   ]
  },
  {
   "cell_type": "code",
   "execution_count": 86,
   "metadata": {},
   "outputs": [],
   "source": [
    "#selection sort \n",
    "def selection_sort(liste):\n",
    "    n = len(liste)\n",
    "    sel_comp_counter = 0\n",
    "    sel_swap_counter = 0\n",
    "    for i in range(n-1):\n",
    "        min_index = i\n",
    "        for j in range(i+1,n):\n",
    "            sel_comp_counter +=1\n",
    "            if(liste[j]<liste[min_index]):\n",
    "                min_index = j\n",
    "        temp = liste[i]\n",
    "        liste[i] =liste[min_index]\n",
    "        liste[min_index] = temp \n",
    "        sel_swap_counter+=1\n",
    "        \n",
    "    return liste , sel_swap_counter,sel_comp_counter "
   ]
  },
  {
   "cell_type": "code",
   "execution_count": 102,
   "metadata": {},
   "outputs": [],
   "source": [
    "list_1 = [21, 406, -529, 62, 410, -428, 452, -679, -86, 143]"
   ]
  },
  {
   "cell_type": "code",
   "execution_count": 88,
   "metadata": {},
   "outputs": [
    {
     "name": "stdout",
     "output_type": "stream",
     "text": [
      "sorted list with selection : [-679, -529, -428, -86, 21, 62, 143, 406, 410, 452]\n",
      "swap counts in the selection  sorting : 9\n",
      "comparison counts in the selection sorting : 45\n"
     ]
    }
   ],
   "source": [
    "result_selection_1=selection_sort(list_1)\n",
    "print(\"sorted list with selection :\",result_selection_1[0])\n",
    "print(\"swap counts in the selection  sorting :\",result_selection_1[1])\n",
    "print(\"comparison counts in the selection sorting :\",result_selection_1[2])\n"
   ]
  },
  {
   "cell_type": "code",
   "execution_count": 94,
   "metadata": {},
   "outputs": [],
   "source": [
    "list_2=[746, 878, -597, -868, 604, 4, -230, -832, -134, 772, 644, 766, -80, -519, -106, -21, 17, 156, 179, 898]"
   ]
  },
  {
   "cell_type": "code",
   "execution_count": 95,
   "metadata": {},
   "outputs": [
    {
     "name": "stdout",
     "output_type": "stream",
     "text": [
      "sorted list with selection : [-868, -832, -597, -519, -230, -134, -106, -80, -21, 4, 17, 156, 179, 604, 644, 746, 766, 772, 878, 898]\n",
      "swap counts in the selection  sorting : 19\n",
      "comparison counts in the selection sorting : 190\n"
     ]
    }
   ],
   "source": [
    "result_selection_2=selection_sort(list_2)\n",
    "print(\"sorted list with selection :\",result_selection_2[0])\n",
    "print(\"swap counts in the selection  sorting :\",result_selection_2[1])\n",
    "print(\"comparison counts in the selection sorting :\",result_selection_2[2])"
   ]
  },
  {
   "cell_type": "code",
   "execution_count": 99,
   "metadata": {},
   "outputs": [
    {
     "data": {
      "text/plain": [
       "[-11,\n",
       " 259,\n",
       " 767,\n",
       " -662,\n",
       " 407,\n",
       " -252,\n",
       " 401,\n",
       " 719,\n",
       " 148,\n",
       " 245,\n",
       " -944,\n",
       " 151,\n",
       " -821,\n",
       " 39,\n",
       " 392,\n",
       " -964,\n",
       " -661,\n",
       " -521,\n",
       " -607,\n",
       " 984,\n",
       " -245,\n",
       " -466,\n",
       " -171,\n",
       " 503,\n",
       " -469,\n",
       " -543,\n",
       " 156,\n",
       " -8,\n",
       " 53,\n",
       " 914,\n",
       " -779,\n",
       " 391,\n",
       " 849,\n",
       " -522,\n",
       " 828,\n",
       " 900,\n",
       " -714,\n",
       " -444,\n",
       " 965,\n",
       " 629,\n",
       " -803,\n",
       " 995,\n",
       " -489,\n",
       " 805,\n",
       " 329,\n",
       " 48,\n",
       " -458,\n",
       " 210,\n",
       " 905,\n",
       " -361,\n",
       " -333,\n",
       " 78,\n",
       " -37,\n",
       " 777,\n",
       " 461,\n",
       " 297,\n",
       " -551,\n",
       " -840,\n",
       " 119,\n",
       " 132,\n",
       " -766,\n",
       " -927,\n",
       " 313,\n",
       " -481,\n",
       " -165,\n",
       " 349,\n",
       " -259,\n",
       " -475,\n",
       " -882,\n",
       " 630,\n",
       " -843,\n",
       " -575,\n",
       " -750,\n",
       " 681,\n",
       " 562,\n",
       " 780,\n",
       " 297,\n",
       " -198,\n",
       " 612,\n",
       " 583,\n",
       " 852,\n",
       " 611,\n",
       " 822,\n",
       " 182,\n",
       " 157,\n",
       " 743,\n",
       " -856,\n",
       " -22,\n",
       " 549,\n",
       " -154,\n",
       " 857,\n",
       " -316,\n",
       " -442,\n",
       " -903,\n",
       " -373,\n",
       " -766,\n",
       " 191,\n",
       " -479,\n",
       " 447,\n",
       " 205,\n",
       " -536,\n",
       " 553,\n",
       " -224,\n",
       " -360,\n",
       " 442,\n",
       " -782,\n",
       " -387,\n",
       " 414,\n",
       " 291,\n",
       " 224,\n",
       " -300,\n",
       " 456,\n",
       " 663,\n",
       " -568,\n",
       " -643,\n",
       " -946,\n",
       " -22,\n",
       " -46,\n",
       " -517,\n",
       " -403,\n",
       " 522,\n",
       " -74,\n",
       " 603,\n",
       " 886,\n",
       " -397,\n",
       " 603,\n",
       " 7,\n",
       " 734,\n",
       " -422,\n",
       " -668,\n",
       " -345,\n",
       " -504,\n",
       " 698,\n",
       " 889,\n",
       " -946,\n",
       " -51,\n",
       " 347,\n",
       " 530,\n",
       " -361,\n",
       " 192,\n",
       " -865,\n",
       " -375,\n",
       " -811,\n",
       " 433,\n",
       " 387,\n",
       " -30,\n",
       " -927,\n",
       " -793,\n",
       " -154,\n",
       " -493,\n",
       " 565,\n",
       " 666,\n",
       " 862,\n",
       " 506,\n",
       " -47,\n",
       " -209,\n",
       " 389,\n",
       " -446,\n",
       " -978,\n",
       " 33,\n",
       " 320,\n",
       " -805,\n",
       " 534,\n",
       " -223,\n",
       " 349,\n",
       " 465,\n",
       " -5,\n",
       " -707,\n",
       " -751,\n",
       " -193,\n",
       " -263,\n",
       " 611,\n",
       " 427,\n",
       " -550,\n",
       " 251,\n",
       " 723,\n",
       " -807,\n",
       " -383,\n",
       " -359,\n",
       " -919,\n",
       " 765,\n",
       " -356,\n",
       " 368,\n",
       " 907,\n",
       " 169,\n",
       " -435,\n",
       " 323,\n",
       " -778,\n",
       " -206,\n",
       " 107,\n",
       " 563,\n",
       " -205,\n",
       " 651,\n",
       " 813,\n",
       " 473,\n",
       " -172,\n",
       " 204,\n",
       " -135,\n",
       " -113,\n",
       " -853]"
      ]
     },
     "execution_count": 99,
     "metadata": {},
     "output_type": "execute_result"
    }
   ],
   "source": [
    "[-11, 259, 767, -662, 407, -252, 401, 719, 148, 245, -944, 151, -821, 39, 392, -964, -661, -521, -607, 984, -245, -466, -171, 503, -469, -543, 156, -8, 53, 914, -779, 391, 849, -522, 828, 900, -714, -444, 965, 629, -803, 995, -489, 805, 329, 48, -458, 210, 905, -361, -333, 78, -37, 777, 461, 297, -551, -840, 119, 132, -766, -927, 313, -481, -165, 349, -259, -475, -882, 630, -843, -575, -750, 681, 562, 780, 297, -198, 612, 583, 852, 611, 822, 182, 157, 743, -856, -22, 549, -154, 857, -316, -442, -903, -373, -766, 191, -479, 447, 205, -536, 553, -224, -360, 442, -782, -387, 414, 291, 224, -300, 456, 663, -568, -643, -946, -22, -46, -517, -403, 522, -74, 603, 886, -397, 603, 7, 734, -422, -668, -345, -504, 698, 889, -946, -51, 347, 530, -361, 192, -865, -375, -811, 433, 387, -30, -927, -793, -154, -493, 565, 666, 862, 506, -47, -209, 389, -446, -978, 33, 320, -805, 534, -223, 349, 465, -5, -707, -751, -193, -263, 611, 427, -550, 251, 723, -807, -383, -359, -919, 765, -356, 368, 907, 169, -435, 323, -778, -206, 107, 563, -205, 651, 813, 473, -172, 204, -135, -113, -853]"
   ]
  },
  {
   "cell_type": "code",
   "execution_count": 100,
   "metadata": {},
   "outputs": [
    {
     "name": "stdout",
     "output_type": "stream",
     "text": [
      "sorted list with selection : [-978, -964, -946, -946, -944, -927, -927, -919, -903, -882, -865, -856, -853, -843, -840, -821, -811, -807, -805, -803, -793, -782, -779, -778, -766, -766, -751, -750, -714, -707, -668, -662, -661, -643, -607, -575, -568, -551, -550, -543, -536, -522, -521, -517, -504, -493, -489, -481, -479, -475, -469, -466, -458, -446, -444, -442, -435, -422, -403, -397, -387, -383, -375, -373, -361, -361, -360, -359, -356, -345, -333, -316, -300, -263, -259, -252, -245, -224, -223, -209, -206, -205, -198, -193, -172, -171, -165, -154, -154, -135, -113, -74, -51, -47, -46, -37, -30, -22, -22, -11, -8, -5, 7, 33, 39, 48, 53, 78, 107, 119, 132, 148, 151, 156, 157, 169, 182, 191, 192, 204, 205, 210, 224, 245, 251, 259, 291, 297, 297, 313, 320, 323, 329, 347, 349, 349, 368, 387, 389, 391, 392, 401, 407, 414, 427, 433, 442, 447, 456, 461, 465, 473, 503, 506, 522, 530, 534, 549, 553, 562, 563, 565, 583, 603, 603, 611, 611, 612, 629, 630, 651, 663, 666, 681, 698, 719, 723, 734, 743, 765, 767, 777, 780, 805, 813, 822, 828, 849, 852, 857, 862, 886, 889, 900, 905, 907, 914, 965, 984, 995]\n",
      "swap counts in the selection  sorting : 199\n",
      "comparison counts in the selection sorting : 19900\n"
     ]
    }
   ],
   "source": [
    "result_selection_3=selection_sort(list_3)\n",
    "print(\"sorted list with selection :\",result_selection_3[0])\n",
    "print(\"swap counts in the selection  sorting :\",result_selection_3[1])\n",
    "print(\"comparison counts in the selection sorting :\",result_selection_3[2])"
   ]
  },
  {
   "cell_type": "code",
   "execution_count": 114,
   "metadata": {},
   "outputs": [],
   "source": [
    "\n",
    "bubblesort_selectionsort_swap_counts=[]\n",
    "bubblesort_selectionsort_comp_counts=[]\n",
    "\n",
    "bubblesort_selectionsort_swap_counts.append((results[1],result_selection_1[1]))\n",
    "bubblesort_selectionsort_swap_counts.append((results_2[1],result_selection_2[1]))\n",
    "bubblesort_selectionsort_swap_counts.append((results_3[1],result_selection_3[1]))\n",
    "\n",
    "\n",
    "bubblesort_selectionsort_comp_counts.append((results[2],result_selection_1[2]))\n",
    "bubblesort_selectionsort_comp_counts.append((results_2[2],result_selection_2[2]))\n",
    "bubblesort_selectionsort_comp_counts.append((results_3[2],result_selection_3[2]))\n",
    "\n",
    "\n",
    "\n",
    "\n",
    "\n"
   ]
  },
  {
   "cell_type": "code",
   "execution_count": 115,
   "metadata": {},
   "outputs": [
    {
     "name": "stdout",
     "output_type": "stream",
     "text": [
      "Bubble_swap | Selection_swap: [(18, 9), (38, 19), (9778, 199)]\n",
      "Bubble_comp | Selection_comp: [(100, 45), (400, 190), (40000, 19900)]\n"
     ]
    }
   ],
   "source": [
    "print(\"Bubble_swap | Selection_swap:\",bubblesort_selectionsort_swap_counts)\n",
    "print(\"Bubble_comp | Selection_comp:\",bubblesort_selectionsort_comp_counts)"
   ]
  },
  {
   "cell_type": "code",
   "execution_count": 111,
   "metadata": {},
   "outputs": [],
   "source": [
    "def empiric_study_sorting(numItern =10,array_size=10):\n",
    "    bubblesort_selectionsort_swap_counts=[]\n",
    "    for i in range(numItern):\n",
    "        \n",
    "        my_liste1 = get_n_random_numbers(array_size,-1000,1000)\n",
    "        #my_liste2 = get_n_random_numbers(array_size,-1000,1000)\n",
    "        \n",
    "        bublesort_result = bublesort_alg(my_liste1)\n",
    "        selectionsort_result   = selection_sort(my_liste1)\n",
    "        \n",
    "    bubblesort_selectionsort_swap_counts.append(( bublesort_result[1], selectionsort_result[1]))\n",
    "     \n",
    "    \n",
    "    return  bubblesort_selectionsort_swap_counts\n",
    "        \n",
    "    "
   ]
  },
  {
   "cell_type": "code",
   "execution_count": 112,
   "metadata": {},
   "outputs": [
    {
     "data": {
      "text/plain": [
       "[(26, 9)]"
      ]
     },
     "execution_count": 112,
     "metadata": {},
     "output_type": "execute_result"
    }
   ],
   "source": [
    "empiric_study_sorting()"
   ]
  },
  {
   "cell_type": "code",
   "execution_count": 120,
   "metadata": {},
   "outputs": [
    {
     "name": "stdout",
     "output_type": "stream",
     "text": [
      "(Bubble_swap | Selection_swap): [(577, 49)]\n"
     ]
    }
   ],
   "source": [
    "#empiric_study_sorting(20,50)\n",
    "print(\"(Bubble_swap | Selection_swap):\",empiric_study_sorting(20,50))"
   ]
  },
  {
   "cell_type": "code",
   "execution_count": 119,
   "metadata": {},
   "outputs": [
    {
     "name": "stdout",
     "output_type": "stream",
     "text": [
      "(Bubble_swap | Selection_swap): [(214957, 999)]\n"
     ]
    }
   ],
   "source": [
    "#empiric_study_sorting(10,1000)\n",
    "print(\"(Bubble_swap | Selection_swap):\",empiric_study_sorting(10,1000))"
   ]
  },
  {
   "cell_type": "markdown",
   "metadata": {},
   "source": [
    "Gerçek sorunlarda Bubble Sort'un Selection Sort'dan daha iyi sonuç verebileceği durumlar da olabilir."
   ]
  },
  {
   "cell_type": "code",
   "execution_count": null,
   "metadata": {},
   "outputs": [],
   "source": []
  }
 ],
 "metadata": {
  "kernelspec": {
   "display_name": "Python 3",
   "language": "python",
   "name": "python3"
  },
  "language_info": {
   "codemirror_mode": {
    "name": "ipython",
    "version": 3
   },
   "file_extension": ".py",
   "mimetype": "text/x-python",
   "name": "python",
   "nbconvert_exporter": "python",
   "pygments_lexer": "ipython3",
   "version": "3.7.6"
  }
 },
 "nbformat": 4,
 "nbformat_minor": 4
}
