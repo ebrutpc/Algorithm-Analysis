{
 "cells": [
  {
   "cell_type": "markdown",
   "metadata": {},
   "source": [
    "# Min Heap \n",
    "<br>\n",
    "<h3> Algoritma Analizi 9.Hafta </h3>"
   ]
  },
  {
   "cell_type": "code",
   "execution_count": 53,
   "metadata": {},
   "outputs": [],
   "source": [
    "def min_heapify(array,i):\n",
    "    left = 2*i +1\n",
    "    right= 2*i\n",
    "    length= len(array)-1\n",
    "    smallest = i\n",
    "    \n",
    "    if(left <= length and array[i] > array[left]):\n",
    "        smallest = left\n",
    "    if( right <= length  and array[smallest] > array[right]):\n",
    "        smallest = right \n",
    "    if(smallest != i):\n",
    "        array[i] , array[smallest] = array[smallest] ,array[i]\n",
    "        min_heapify(array,smallest)\n",
    "        "
   ]
  },
  {
   "cell_type": "code",
   "execution_count": 54,
   "metadata": {},
   "outputs": [],
   "source": [
    "def build_min_heap(array):\n",
    "    for i in reversed(range(len(array)//2)):\n",
    "        min_heapify(array,i)"
   ]
  },
  {
   "cell_type": "code",
   "execution_count": 55,
   "metadata": {},
   "outputs": [],
   "source": [
    "arr = [8,10,3,4,7,15,1,2,16]"
   ]
  },
  {
   "cell_type": "code",
   "execution_count": 79,
   "metadata": {},
   "outputs": [
    {
     "data": {
      "text/plain": [
       "[1, 2, 3, 4, 7, 15, 8, 10, 16]"
      ]
     },
     "execution_count": 79,
     "metadata": {},
     "output_type": "execute_result"
    }
   ],
   "source": [
    "build_min_heap(arr)\n",
    "arr"
   ]
  },
  {
   "cell_type": "code",
   "execution_count": 57,
   "metadata": {},
   "outputs": [],
   "source": [
    "def heapsort(array):\n",
    "    array = array.copy()\n",
    "    build_min_heap(array)\n",
    "    sorted_array =[]\n",
    "    for _ in range(len(array)):\n",
    "        array[0],array[-1] = array[-1] , array[0]\n",
    "        sorted_array.append(array.pop())\n",
    "        min_heapify(array,0)\n",
    "    return sorted_array\n"
   ]
  },
  {
   "cell_type": "code",
   "execution_count": 58,
   "metadata": {},
   "outputs": [
    {
     "data": {
      "text/plain": [
       "([8, 10, 3, 4, 7, 15, 1, 2, 16], [1, 2, 3, 4, 7, 8, 10, 15, 16])"
      ]
     },
     "execution_count": 58,
     "metadata": {},
     "output_type": "execute_result"
    }
   ],
   "source": [
    "arr_1=[8,10,3,4,7,15,1,2,16]\n",
    "arr_2=heapsort(arr_1)\n",
    "arr_1,arr_2"
   ]
  },
  {
   "cell_type": "code",
   "execution_count": 59,
   "metadata": {},
   "outputs": [],
   "source": [
    "def insertitemtoHeap(my_heap,item):\n",
    "    my_heap.append(item)\n",
    "    n=len(my_heap)\n",
    "    n=n-1\n",
    "    if(n//2==n/2):\n",
    "        parent_i = n//2-1\n",
    "    else:\n",
    "        parent_i = n//2\n",
    "    print(\"n, parent indis \",n,parent_i)\n",
    "    while(parent_i >=0):\n",
    "        print(\"Parent indis \",parent_i)\n",
    "        min_heapify(my_heap,parent_i)\n",
    "        \n",
    "        if(parent_i//2==parent_i/2):\n",
    "            parent_i=parent_i//2-1\n",
    "        else:\n",
    "            parent_i = parent_i//2\n",
    "        \n",
    "    return my_heap\n",
    "        \n",
    "        "
   ]
  },
  {
   "cell_type": "code",
   "execution_count": 60,
   "metadata": {},
   "outputs": [],
   "source": [
    "def removeitemfromHeap(my_heap):\n",
    "    my_heap[0],my_heap[-1] = my_heap[-1],my_heap[0]\n",
    "    s = my_heap.pop()\n",
    "    min_heapify(my_heap,0)\n",
    "    \n",
    "    return my_heap\n",
    "    "
   ]
  },
  {
   "cell_type": "code",
   "execution_count": 61,
   "metadata": {},
   "outputs": [
    {
     "data": {
      "text/plain": [
       "[1, 2, 3, 4, 7, 8, 10, 15, 16]"
      ]
     },
     "execution_count": 61,
     "metadata": {},
     "output_type": "execute_result"
    }
   ],
   "source": [
    "arr_2"
   ]
  },
  {
   "cell_type": "code",
   "execution_count": 62,
   "metadata": {},
   "outputs": [
    {
     "data": {
      "text/plain": [
       "[2, 3, 7, 4, 16, 8, 10, 15]"
      ]
     },
     "execution_count": 62,
     "metadata": {},
     "output_type": "execute_result"
    }
   ],
   "source": [
    "removeitemfromHeap(arr_2)"
   ]
  },
  {
   "cell_type": "code",
   "execution_count": 74,
   "metadata": {},
   "outputs": [],
   "source": [
    "arr_1 = [8,10,3,4,7,15]\n",
    "arr_2 = build_min_heap(arr_1)\n",
    "arr_2"
   ]
  },
  {
   "cell_type": "code",
   "execution_count": 78,
   "metadata": {},
   "outputs": [
    {
     "name": "stdout",
     "output_type": "stream",
     "text": [
      "n, parent indis  8 3\n",
      "Parent indis  3\n",
      "Parent indis  1\n",
      "Parent indis  0\n"
     ]
    },
    {
     "data": {
      "text/plain": [
       "[3, 4, 7, 5, 10, 15, 5, 8, 17]"
      ]
     },
     "execution_count": 78,
     "metadata": {},
     "output_type": "execute_result"
    }
   ],
   "source": [
    "insertitemtoHeap(arr_1,17)\n",
    "build_min_heap(arr_1)\n",
    "arr_1"
   ]
  },
  {
   "cell_type": "code",
   "execution_count": 72,
   "metadata": {},
   "outputs": [],
   "source": [
    "def insertitemToHeap(my_heap,item):\n",
    "    my_heap.append(item)\n",
    "    n=len(my_heap)\n",
    "    \n",
    "    if(n//2== n/2):\n",
    "        parent_indis =(n//2)-1\n",
    "    else:\n",
    "        paren_indis =n//2\n",
    "        \n",
    "    while(parent_indis>=1):\n",
    "        min_heapify(my_heap,parent_indis-1)\n",
    "        parent_indis=parent_indis//2\n",
    "        "
   ]
  }
 ],
 "metadata": {
  "kernelspec": {
   "display_name": "Python 3",
   "language": "python",
   "name": "python3"
  },
  "language_info": {
   "codemirror_mode": {
    "name": "ipython",
    "version": 3
   },
   "file_extension": ".py",
   "mimetype": "text/x-python",
   "name": "python",
   "nbconvert_exporter": "python",
   "pygments_lexer": "ipython3",
   "version": "3.7.6"
  }
 },
 "nbformat": 4,
 "nbformat_minor": 4
}
