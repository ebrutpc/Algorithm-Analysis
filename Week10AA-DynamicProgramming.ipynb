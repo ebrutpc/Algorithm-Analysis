{
 "cells": [
  {
   "cell_type": "markdown",
   "metadata": {},
   "source": [
    "# Dynamic Programming \n",
    "<br>\n",
    "<h3>Week 10 Algorithm Analysis </h3>\n"
   ]
  },
  {
   "cell_type": "markdown",
   "metadata": {},
   "source": [
    "Overlapping subproblems for fibonnaci recursive function"
   ]
  },
  {
   "cell_type": "code",
   "execution_count": 87,
   "metadata": {},
   "outputs": [],
   "source": [
    "def fib(n):\n",
    "   # print(\"Currently the Called n : \",n)\n",
    "    if(n==0 or n==1):\n",
    "        return 1\n",
    "    else:\n",
    "        return fib(n-1) + fib(n-2)\n",
    "    "
   ]
  },
  {
   "cell_type": "code",
   "execution_count": 88,
   "metadata": {},
   "outputs": [
    {
     "data": {
      "text/plain": [
       "233"
      ]
     },
     "execution_count": 88,
     "metadata": {},
     "output_type": "execute_result"
    }
   ],
   "source": [
    "fib(12)"
   ]
  },
  {
   "cell_type": "code",
   "execution_count": 89,
   "metadata": {},
   "outputs": [],
   "source": [
    "def fastfib(n, memo={}):\n",
    "    print(\"Currently the Called n : \",n)\n",
    "    if(n==0 or n==1):\n",
    "        return 1\n",
    "    try:\n",
    "        return memo[n]\n",
    "    except KeyError:\n",
    "        result = fastfib(n-1,memo)+ fastfib(n-2,memo)\n",
    "        memo[n] = result\n",
    "    return result \n",
    "    "
   ]
  },
  {
   "cell_type": "code",
   "execution_count": 100,
   "metadata": {},
   "outputs": [
    {
     "name": "stdout",
     "output_type": "stream",
     "text": [
      "Currently the Called n :  15\n"
     ]
    },
    {
     "data": {
      "text/plain": [
       "987"
      ]
     },
     "execution_count": 100,
     "metadata": {},
     "output_type": "execute_result"
    }
   ],
   "source": [
    "fastfib(15)"
   ]
  },
  {
   "cell_type": "markdown",
   "metadata": {},
   "source": [
    "<i>The fastfib function avoids the  repetitive operation and thus overlapping subproblems are solved </i>\n",
    "\n",
    " The method is called <b><i>Memoization</i></b>  "
   ]
  },
  {
   "cell_type": "markdown",
   "metadata": {},
   "source": [
    "<h3> Dynamic Programming and the 0/1 Knapsack Problem </h3>\n",
    "<br>\n",
    "<h4> Rooted Binary Tree - Decision Tree For Knapsack Problem </h4>\n"
   ]
  },
  {
   "cell_type": "code",
   "execution_count": 91,
   "metadata": {},
   "outputs": [],
   "source": [
    "class Item(object):\n",
    "    def __init__(self,n,v,w):\n",
    "        self.name=n\n",
    "        self.value=v\n",
    "        self.weight=w\n",
    "        \n",
    "    def getName(self):\n",
    "        return self.name\n",
    "    def getValue(self):\n",
    "        return self.value\n",
    "    def getWeight(self):\n",
    "        return self.weight\n",
    "    \n",
    "    def __str__(self):\n",
    "        result = '<' + self.name +','+str(self.value)+','+str(self.weight) + '>'\n",
    "        return result\n",
    "    "
   ]
  },
  {
   "cell_type": "code",
   "execution_count": 92,
   "metadata": {},
   "outputs": [],
   "source": [
    "def maxVal(toConsider , avail):\n",
    "    if(toConsider== [] or avail ==0):\n",
    "        result =(0,())\n",
    "    elif (toConsider[0].getWeight() > avail):\n",
    "        result = maxVal(toConsider[1:],avail)\n",
    "    else:\n",
    "        nextItem = toConsider[0]\n",
    "        withVal , withToTake = maxVal(toConsider[1:],avail-nextItem.getWeight())\n",
    "        \n",
    "        withVal+= nextItem.getValue()\n",
    "        withoutVal,withoutToTake = maxVal(toConsider[1:],avail)\n",
    "        \n",
    "        if(withVal > withoutVal):\n",
    "            result = (withVal,withToTake + (nextItem,))\n",
    "        else:\n",
    "            result = (withoutVal,withoutToTake)\n",
    "    return result \n",
    "        "
   ]
  },
  {
   "cell_type": "code",
   "execution_count": 93,
   "metadata": {},
   "outputs": [],
   "source": [
    "def smallTest():\n",
    "    names = ['a','b','c','d']\n",
    "    vals = [6,7,8,9]\n",
    "    weights = [1,1,2,5]\n",
    "    \n",
    "    Items =[]\n",
    "    \n",
    "    for i in range(len(vals)):\n",
    "        Items.append(Item(names[i],vals[i],weights[i]))\n",
    "    val,taken = maxVal(Items,5)\n",
    "    for item in taken:\n",
    "        print(item)\n",
    "        \n",
    "    print('Total value of items taken =',val)\n",
    "    \n",
    "    "
   ]
  },
  {
   "cell_type": "code",
   "execution_count": 94,
   "metadata": {},
   "outputs": [
    {
     "name": "stdout",
     "output_type": "stream",
     "text": [
      "<c,8,2>\n",
      "<b,7,1>\n",
      "<a,6,1>\n",
      "Total value of items taken = 21\n"
     ]
    }
   ],
   "source": [
    "smallTest()"
   ]
  },
  {
   "cell_type": "code",
   "execution_count": 95,
   "metadata": {},
   "outputs": [],
   "source": [
    "def bigTest(numItems):\n",
    "    items = buildManyItems(numItems,10,10)\n",
    "    val,taken = maxVal(items,40)\n",
    "    print('Items Taken')\n",
    "    for item in taken:\n",
    "        print(item)\n",
    "        print('Total value of items taken= ',val)"
   ]
  },
  {
   "cell_type": "code",
   "execution_count": 96,
   "metadata": {},
   "outputs": [],
   "source": [
    "import random\n",
    "def buildManyItems(numItems,maxVal,maxWeight):\n",
    "    items=[]\n",
    "    for i in range(numItems):\n",
    "        items.append(Item(str(i),random.randint(1,maxVal),random.randint(1,maxWeight)))\n",
    "    return items\n"
   ]
  },
  {
   "cell_type": "code",
   "execution_count": 97,
   "metadata": {},
   "outputs": [
    {
     "name": "stdout",
     "output_type": "stream",
     "text": [
      "Items Taken\n",
      "<3,9,7>\n",
      "Total value of items taken=  23\n",
      "<2,9,9>\n",
      "Total value of items taken=  23\n",
      "<1,4,8>\n",
      "Total value of items taken=  23\n",
      "<0,1,10>\n",
      "Total value of items taken=  23\n"
     ]
    }
   ],
   "source": [
    "bigTest(4)"
   ]
  },
  {
   "cell_type": "markdown",
   "metadata": {},
   "source": [
    "<h5>Memoization method use of Decision Tree for Knapsack Problem</h5>"
   ]
  },
  {
   "cell_type": "code",
   "execution_count": 98,
   "metadata": {},
   "outputs": [],
   "source": [
    "def fastMaxValDT(toConsider,avail,memo= {}):\n",
    "    \n",
    "    if((len(toConsider),avail) in memo):\n",
    "        result = memo[(len(toConsider),avail)]\n",
    "    elif( toConsider == [] or avail==0):\n",
    "        result=(0,())\n",
    "    elif (toConsider[0].getWeight()>avail):\n",
    "        result=fastMAxValDT(toConsider[1:],avail,memo)\n",
    "    else:\n",
    "        nextItem = toConsider[0]\n",
    "        withVal,withToTake=fastMaxValDT(toConsider[1:],avail-nextItem.getWeight(),memo)\n",
    "        withVal+=nextItem.getValue()\n",
    "        \n",
    "        withoutVal,withtoutToTake=fastMaxValDT(toConsider[1:],avail,memo)\n",
    "        \n",
    "        if( withVal > withoutVal):\n",
    "            result =(withoutVal ,withToTake + (nextItem,))\n",
    "        else:\n",
    "            result =(withoutVal,withToTake)\n",
    "        memo[(len(toConsider),avail)] =result\n",
    "        \n",
    "    return result "
   ]
  },
  {
   "cell_type": "code",
   "execution_count": 99,
   "metadata": {},
   "outputs": [
    {
     "data": {
      "text/plain": [
       "(0,\n",
       " (<__main__.Item at 0x29c812a2048>,\n",
       "  <__main__.Item at 0x29c812a2088>,\n",
       "  <__main__.Item at 0x29c812a2248>,\n",
       "  <__main__.Item at 0x29c812a22c8>,\n",
       "  <__main__.Item at 0x29c812a2188>))"
      ]
     },
     "execution_count": 99,
     "metadata": {},
     "output_type": "execute_result"
    }
   ],
   "source": [
    "numItems = 5\n",
    "items = buildManyItems(numItems,10,10)\n",
    "fastMaxValDT(items,40)\n"
   ]
  }
 ],
 "metadata": {
  "kernelspec": {
   "display_name": "Python 3",
   "language": "python",
   "name": "python3"
  },
  "language_info": {
   "codemirror_mode": {
    "name": "ipython",
    "version": 3
   },
   "file_extension": ".py",
   "mimetype": "text/x-python",
   "name": "python",
   "nbconvert_exporter": "python",
   "pygments_lexer": "ipython3",
   "version": "3.7.6"
  }
 },
 "nbformat": 4,
 "nbformat_minor": 4
}
