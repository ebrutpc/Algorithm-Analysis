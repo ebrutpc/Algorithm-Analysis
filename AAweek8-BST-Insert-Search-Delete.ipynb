{
 "cells": [
  {
   "cell_type": "markdown",
   "metadata": {},
   "source": [
    "# Binary Search Tree\n",
    "<br>\n",
    "<h3>Algoritma Analizi 8.Hafta <h3>"
   ]
  },
  {
   "cell_type": "code",
   "execution_count": 250,
   "metadata": {},
   "outputs": [],
   "source": [
    "# BST nin tekil  düğümünü temsil etmeye yarayan bir sınıftır.\n",
    "class Node:\n",
    "    def __init__(self,key):\n",
    "        self.left = None\n",
    "        self.right =None\n",
    "        self.val = key\n",
    "        self.depth=0\n",
    "        \n",
    "        def __str__(self):\n",
    "            return \"val : \" + str(self.val)+ \" depth : \" + str(self.depth)  "
   ]
  },
  {
   "cell_type": "code",
   "execution_count": 251,
   "metadata": {},
   "outputs": [],
   "source": [
    "#Verilen anahtar ile yeni bir düğüm eklemeye yarayan fonksiyondur.\n",
    "        \n",
    "def insert(root,node):\n",
    "    if(root == None ):\n",
    "        root = node \n",
    "        \n",
    "    else:\n",
    "        node.depth+=1\n",
    "        if (root.val < node.val):\n",
    "            if(root.right == None ):\n",
    "                root.right = node\n",
    "            else:\n",
    "                insert(root.right,node)\n",
    "        else:\n",
    "            if(root.left == None ):\n",
    "                root.left = node\n",
    "            else:\n",
    "                insert(root.left,node)"
   ]
  },
  {
   "cell_type": "code",
   "execution_count": 252,
   "metadata": {},
   "outputs": [
    {
     "data": {
      "text/plain": [
       "(50, 0)"
      ]
     },
     "execution_count": 252,
     "metadata": {},
     "output_type": "execute_result"
    }
   ],
   "source": [
    "r = Node(50)\n",
    "r.val,r.depth"
   ]
  },
  {
   "cell_type": "code",
   "execution_count": 253,
   "metadata": {},
   "outputs": [],
   "source": [
    "insert(r,Node(30))\n",
    "insert(r,Node(20))\n",
    "insert(r,Node(40))\n",
    "insert(r,Node(70))\n",
    "insert(r,Node(60))\n",
    "insert(r,Node(80))"
   ]
  },
  {
   "cell_type": "code",
   "execution_count": 254,
   "metadata": {},
   "outputs": [],
   "source": [
    "import random "
   ]
  },
  {
   "cell_type": "code",
   "execution_count": 255,
   "metadata": {},
   "outputs": [],
   "source": [
    "#Left-Root-Right şeklinde sıralı olarak ağacı dolaşan ve yazan fonksiyon \n",
    "SumOfDepth=0\n",
    "NumberOfNodes=0\n",
    "def inorder(root): \n",
    "    if(root != None):\n",
    "        inorder(root.left)\n",
    "        print(root.val,root.depth,end=\"  --   \")\n",
    "        global SumOfDepth\n",
    "        global NumberOfNodes\n",
    "        NumberOfNodes+=1\n",
    "        SumOfDepth+=root.depth\n",
    "        inorder(root.right)\n",
    "   \n",
    "        \n",
    "#def preorder(root):\n",
    " #   if(root != None):\n",
    "  #      print(root.val)\n",
    "   #     preorder(root.left)\n",
    "    #    preorder(root.right)\n",
    "    \n",
    "#def postorder(root):   \n",
    "    #if(root != None):\n",
    "     #   postorder(root.left)\n",
    "      #  postorder(root.right)\n",
    "       # print(root.val)\n",
    "        "
   ]
  },
  {
   "cell_type": "code",
   "execution_count": 276,
   "metadata": {},
   "outputs": [],
   "source": [
    "def empric_bst(n=100):\n",
    "    for i in range(100):\n",
    "        s = random.randint(-1000,1000)\n",
    "        insert(r,Node(s))"
   ]
  },
  {
   "cell_type": "code",
   "execution_count": 282,
   "metadata": {},
   "outputs": [],
   "source": [
    "for i in range(1000):\n",
    "    empric_bst(100)"
   ]
  },
  {
   "cell_type": "code",
   "execution_count": null,
   "metadata": {},
   "outputs": [],
   "source": [
    "inorder(r)"
   ]
  },
  {
   "cell_type": "code",
   "execution_count": 284,
   "metadata": {},
   "outputs": [
    {
     "data": {
      "text/plain": [
       "(4180821, 107320, 38.95658777487887, 11.58357030453956)"
      ]
     },
     "execution_count": 284,
     "metadata": {},
     "output_type": "execute_result"
    }
   ],
   "source": [
    "import math \n",
    "SumOfDepth , NumberOfNodes , SumOfDepth/NumberOfNodes, math.log(NumberOfNodes)"
   ]
  },
  {
   "cell_type": "code",
   "execution_count": 280,
   "metadata": {},
   "outputs": [],
   "source": [
    "def search(root,key):\n",
    "    \n",
    "    if(root != None or root.val==key):\n",
    "        return key\n",
    "    if(root.val < key):\n",
    "        return search(root.right,key)\n",
    "    else :\n",
    "        return search(root.left,key)\n",
    "    \n",
    "    \n",
    "    "
   ]
  },
  {
   "cell_type": "code",
   "execution_count": 281,
   "metadata": {},
   "outputs": [
    {
     "data": {
      "text/plain": [
       "30"
      ]
     },
     "execution_count": 281,
     "metadata": {},
     "output_type": "execute_result"
    }
   ],
   "source": [
    "result=search(r,30)\n",
    "result"
   ]
  },
  {
   "cell_type": "code",
   "execution_count": 273,
   "metadata": {},
   "outputs": [],
   "source": [
    "def minValueNode(node):\n",
    "    current = node\n",
    "    while(current.left != None):\n",
    "        current = current.left\n",
    "    return current\n",
    "\n",
    "    "
   ]
  },
  {
   "cell_type": "code",
   "execution_count": 274,
   "metadata": {},
   "outputs": [],
   "source": [
    "def deleteNode(root, key):\n",
    "    if(root == None ):\n",
    "        return root\n",
    "    if (key < root.val):\n",
    "        root.left = deleteNode(root.left, key)\n",
    "    elif(key > root.val):\n",
    "        root.right = deleteNode(root.right, key)\n",
    "    else:\n",
    "        if (root.left == None):\n",
    "            temp = root.right\n",
    "            root = None\n",
    "            return temp\n",
    " \n",
    "        elif (root.right == None):\n",
    "            temp = root.left\n",
    "            root = None\n",
    "            return temp\n",
    "        temp = minValueNode(root.right)\n",
    "        root.val = temp.val\n",
    "        root.right = deleteNode(root.right, temp.val)\n",
    "    return root"
   ]
  },
  {
   "cell_type": "code",
   "execution_count": null,
   "metadata": {},
   "outputs": [],
   "source": [
    "deleteNode(r,20)\n",
    "deleteNode(r,50)\n",
    "deleteNode(r,70)\n",
    "deleteNode(r,60)\n",
    "inorder(r)"
   ]
  }
 ],
 "metadata": {
  "kernelspec": {
   "display_name": "Python 3",
   "language": "python",
   "name": "python3"
  },
  "language_info": {
   "codemirror_mode": {
    "name": "ipython",
    "version": 3
   },
   "file_extension": ".py",
   "mimetype": "text/x-python",
   "name": "python",
   "nbconvert_exporter": "python",
   "pygments_lexer": "ipython3",
   "version": "3.7.6"
  }
 },
 "nbformat": 4,
 "nbformat_minor": 4
}
