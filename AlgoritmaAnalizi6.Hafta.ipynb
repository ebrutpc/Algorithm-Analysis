{
 "cells": [
  {
   "cell_type": "code",
   "execution_count": 12,
   "metadata": {},
   "outputs": [],
   "source": [
    "import random \n",
    "\n",
    "def get_n_random_numbers(n=10,min_=-5,max_=5):\n",
    "    numbers=[]\n",
    "    for i in range(n):\n",
    "        numbers.append(random.randint(min_,max_))\n",
    "        \n",
    "    return numbers \n"
   ]
  },
  {
   "cell_type": "code",
   "execution_count": 13,
   "metadata": {},
   "outputs": [
    {
     "data": {
      "text/plain": [
       "[-4, 3, -2, 1, 4, -5, -1, 0, 2, 1]"
      ]
     },
     "execution_count": 13,
     "metadata": {},
     "output_type": "execute_result"
    }
   ],
   "source": [
    "get_n_random_numbers()"
   ]
  },
  {
   "cell_type": "markdown",
   "metadata": {},
   "source": [
    "# Linear Search of List"
   ]
  },
  {
   "cell_type": "code",
   "execution_count": 233,
   "metadata": {},
   "outputs": [],
   "source": [
    "def linear_search(liste,aranan):\n",
    "    found=(-1,-1) # liste de yok durumu default olarak\n",
    "    for i in range (len(liste)):\n",
    "        if (liste[i] == aranan):\n",
    "            found = (liste[i],i) #listenin i. elemanı aranan elemandır.\n",
    "            break # aranan eleman bulunduğunda çıkar \n",
    "    return found "
   ]
  },
  {
   "cell_type": "code",
   "execution_count": 234,
   "metadata": {},
   "outputs": [],
   "source": [
    "def experimental_study_linear(iterNum =10):\n",
    "    cost =[]\n",
    "    x_low = -10\n",
    "    x_high = 10\n",
    "    array_size =20*2\n",
    "    print(\"array size :\",array_size)\n",
    "    for i in range(iterNum):\n",
    "        liste_1 = get_n_random_numbers(array_size,x_low,x_high)\n",
    "        search_item = get_n_random_numbers(1,x_low,x_high)[0]\n",
    "        \n",
    "        search_result = linear_search (liste_1 , search_item)\n",
    "        if(search_result[1]==-1):\n",
    "            cost.append(array_size) #(-1,-1)\n",
    "        else:\n",
    "            cost.append(search_result[1])\n",
    "        print(search_result)\n",
    "    return cost"
   ]
  },
  {
   "cell_type": "code",
   "execution_count": 235,
   "metadata": {},
   "outputs": [
    {
     "name": "stdout",
     "output_type": "stream",
     "text": [
      "array size : 40\n",
      "(-6, 17)\n",
      "(-9, 16)\n",
      "(-2, 14)\n",
      "(-10, 0)\n",
      "(1, 7)\n",
      "(-6, 0)\n",
      "(-1, -1)\n",
      "(-1, -1)\n",
      "(10, 14)\n",
      "(6, 14)\n"
     ]
    },
    {
     "data": {
      "text/plain": [
       "[17, 16, 14, 0, 7, 0, 40, 40, 14, 14]"
      ]
     },
     "execution_count": 235,
     "metadata": {},
     "output_type": "execute_result"
    }
   ],
   "source": [
    "linear_result=experimental_study_linear()\n",
    "linear_result\n"
   ]
  },
  {
   "cell_type": "code",
   "execution_count": 238,
   "metadata": {
    "scrolled": false
   },
   "outputs": [
    {
     "data": {
      "text/plain": [
       "[<matplotlib.lines.Line2D at 0x2502107ad88>]"
      ]
     },
     "execution_count": 238,
     "metadata": {},
     "output_type": "execute_result"
    },
    {
     "data": {
      "image/png": "[encoded data removed]",
      "text/plain": [
       "<Figure size 432x288 with 1 Axes>"
      ]
     },
     "metadata": {
      "needs_background": "light"
     },
     "output_type": "display_data"
    }
   ],
   "source": [
    "import matplotlib.pyplot as plt \n",
    "plt.plot(linear_result)"
   ]
  },
  {
   "cell_type": "markdown",
   "metadata": {},
   "source": [
    "# Binary Search on a sorted list"
   ]
  },
  {
   "cell_type": "code",
   "execution_count": 239,
   "metadata": {},
   "outputs": [],
   "source": [
    "def binary_search(liste,item_search):\n",
    "    found = (-1,-1,0)\n",
    "    low = 0\n",
    "    high = len(liste)-1\n",
    "    s=0\n",
    "    \n",
    "    while (low<=high):\n",
    "        mid = (low+high)//2\n",
    "        print(\"low , high , mid : \",low,high,mid)\n",
    "        s+=1\n",
    "        if (liste[mid]== item_search):\n",
    "            return liste[mid] ,item_search,s\n",
    "\n",
    "        elif (liste[mid] > item_search):\n",
    "            high = mid-1\n",
    "        else:\n",
    "            low = mid+1\n",
    "            \n",
    "    print(\"s :\",s)\n",
    "    return found #none     \n",
    "    \n",
    "    "
   ]
  },
  {
   "cell_type": "code",
   "execution_count": 240,
   "metadata": {},
   "outputs": [],
   "source": [
    "def bublesort_alg(liste):\n",
    "    for i in range (len(liste)):\n",
    "        for k in range(len(liste)):\n",
    "            if(liste[i]<liste[k]):\n",
    "                    temp = liste[i]\n",
    "                    liste[i] = liste[k]\n",
    "                    liste[k] = temp\n",
    "\n",
    "\n",
    "    return liste "
   ]
  },
  {
   "cell_type": "code",
   "execution_count": 241,
   "metadata": {},
   "outputs": [],
   "source": [
    "liste_2 = get_n_random_numbers()\n",
    "liste_2=bublesort_alg(liste_2)\n"
   ]
  },
  {
   "cell_type": "code",
   "execution_count": 242,
   "metadata": {},
   "outputs": [
    {
     "data": {
      "text/plain": [
       "[-4, -4, -3, -2, -2, -2, -1, -1, -1, 4]"
      ]
     },
     "execution_count": 242,
     "metadata": {},
     "output_type": "execute_result"
    }
   ],
   "source": [
    "liste_2"
   ]
  },
  {
   "cell_type": "code",
   "execution_count": 243,
   "metadata": {},
   "outputs": [
    {
     "name": "stdout",
     "output_type": "stream",
     "text": [
      "low , high , mid :  0 9 4\n",
      "low , high , mid :  5 9 7\n",
      "low , high , mid :  8 9 8\n",
      "low , high , mid :  9 9 9\n"
     ]
    },
    {
     "data": {
      "text/plain": [
       "(4, 4, 4)"
      ]
     },
     "execution_count": 243,
     "metadata": {},
     "output_type": "execute_result"
    }
   ],
   "source": [
    "binary_search(liste_2,4)"
   ]
  },
  {
   "cell_type": "code",
   "execution_count": 244,
   "metadata": {},
   "outputs": [
    {
     "name": "stdout",
     "output_type": "stream",
     "text": [
      "low , high , mid :  0 19 9\n",
      "low , high , mid :  10 19 14\n",
      "low , high , mid :  15 19 17\n"
     ]
    }
   ],
   "source": [
    "x_low = -10\n",
    "x_high = 10\n",
    "array_size =20\n",
    "liste_2 = get_n_random_numbers(array_size,x_low,x_high)\n",
    "liste_2 = bublesort_alg(liste_2)\n",
    "search_item = get_n_random_numbers(1,x_low,x_high)[0]\n",
    "search_result = binary_search (liste_2 , search_item)"
   ]
  },
  {
   "cell_type": "code",
   "execution_count": 245,
   "metadata": {},
   "outputs": [],
   "source": [
    "def experimental_study_binary(iterNum =10):\n",
    "    cost =[]\n",
    "    x_low = -10\n",
    "    x_high = 10\n",
    "    array_size =20*2\n",
    "    print(\"array size :\",array_size)\n",
    "    for i in range(iterNum):\n",
    "        liste_2 = get_n_random_numbers(array_size,x_low,x_high)\n",
    "        liste_2 = bublesort_alg(liste_2)\n",
    "        bsearch_item = get_n_random_numbers(1,x_low,x_high)[0]\n",
    "        bsearch_result = binary_search (liste_2 , bsearch_item)\n",
    "        cost.append(bsearch_result[2]) #s\n",
    "       \n",
    "    return cost"
   ]
  },
  {
   "cell_type": "code",
   "execution_count": 246,
   "metadata": {},
   "outputs": [
    {
     "name": "stdout",
     "output_type": "stream",
     "text": [
      "array size : 40\n",
      "low , high , mid :  0 39 19\n",
      "low , high , mid :  0 18 9\n",
      "low , high , mid :  0 8 4\n",
      "low , high , mid :  0 3 1\n",
      "low , high , mid :  2 3 2\n",
      "s : 5\n",
      "low , high , mid :  0 39 19\n",
      "low , high , mid :  0 18 9\n",
      "low , high , mid :  0 8 4\n",
      "low , high , mid :  0 3 1\n",
      "low , high , mid :  0 39 19\n",
      "low , high , mid :  0 18 9\n",
      "low , high , mid :  10 18 14\n",
      "low , high , mid :  0 39 19\n",
      "low , high , mid :  0 18 9\n",
      "low , high , mid :  0 8 4\n",
      "low , high , mid :  0 39 19\n",
      "low , high , mid :  0 18 9\n",
      "low , high , mid :  0 8 4\n",
      "low , high , mid :  5 8 6\n",
      "low , high , mid :  7 8 7\n",
      "low , high , mid :  8 8 8\n",
      "low , high , mid :  0 39 19\n",
      "low , high , mid :  20 39 29\n",
      "low , high , mid :  30 39 34\n",
      "low , high , mid :  30 33 31\n",
      "low , high , mid :  0 39 19\n",
      "low , high , mid :  20 39 29\n",
      "low , high , mid :  30 39 34\n",
      "low , high , mid :  0 39 19\n",
      "low , high , mid :  0 18 9\n",
      "low , high , mid :  10 18 14\n",
      "low , high , mid :  10 13 11\n",
      "low , high , mid :  0 39 19\n",
      "low , high , mid :  20 39 29\n",
      "low , high , mid :  30 39 34\n",
      "low , high , mid :  0 39 19\n",
      "low , high , mid :  20 39 29\n",
      "low , high , mid :  30 39 34\n"
     ]
    },
    {
     "data": {
      "text/plain": [
       "[0, 4, 3, 3, 6, 4, 3, 4, 3, 3]"
      ]
     },
     "execution_count": 246,
     "metadata": {},
     "output_type": "execute_result"
    }
   ],
   "source": [
    "binary_result=experimental_study_binary()\n",
    "binary_result"
   ]
  },
  {
   "cell_type": "code",
   "execution_count": 247,
   "metadata": {},
   "outputs": [
    {
     "data": {
      "text/plain": [
       "[<matplotlib.lines.Line2D at 0x250210d3e88>]"
      ]
     },
     "execution_count": 247,
     "metadata": {},
     "output_type": "execute_result"
    },
    {
     "data": {
      "image/png": "[encoded data removed]",
      "text/plain": [
       "<Figure size 432x288 with 1 Axes>"
      ]
     },
     "metadata": {
      "needs_background": "light"
     },
     "output_type": "display_data"
    }
   ],
   "source": [
    "plt.plot(binary_result)"
   ]
  },
  {
   "cell_type": "markdown",
   "metadata": {},
   "source": [
    "# Linear Search vs Binary Search"
   ]
  },
  {
   "cell_type": "code",
   "execution_count": 250,
   "metadata": {
    "scrolled": true
   },
   "outputs": [
    {
     "data": {
      "image/png": "[encoded data removed]",
      "text/plain": [
       "<Figure size 432x288 with 2 Axes>"
      ]
     },
     "metadata": {
      "needs_background": "light"
     },
     "output_type": "display_data"
    }
   ],
   "source": [
    "plt.subplot(1,2,1) , plt.plot(linear_result) , plt.title('Linear Search (a)')\n",
    "plt.subplot(1,2,2) , plt.plot(binary_result) , plt.title('Binary Serach (b)')\n",
    "plt.show()"
   ]
  },
  {
   "cell_type": "markdown",
   "metadata": {},
   "source": [
    "Linear Search Max-Cost = 40 <br>\n",
    "Binary Search Max-Cost  = 6"
   ]
  }
 ],
 "metadata": {
  "kernelspec": {
   "display_name": "Python 3",
   "language": "python",
   "name": "python3"
  },
  "language_info": {
   "codemirror_mode": {
    "name": "ipython",
    "version": 3
   },
   "file_extension": ".py",
   "mimetype": "text/x-python",
   "name": "python",
   "nbconvert_exporter": "python",
   "pygments_lexer": "ipython3",
   "version": "3.7.6"
  }
 },
 "nbformat": 4,
 "nbformat_minor": 4
}
